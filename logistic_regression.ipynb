{
 "cells": [
  {
   "cell_type": "markdown",
   "metadata": {},
   "source": [
    "## Nadam v ADAM - Logistic regression on MNIST dataset."
   ]
  },
  {
   "cell_type": "code",
   "execution_count": 14,
   "metadata": {
    "collapsed": true
   },
   "outputs": [],
   "source": [
    "import numpy as np\n",
    "import numpy.random as rn\n",
    "import numpy.linalg as la\n",
    "import matplotlib.pyplot as plt\n",
    "import math\n",
    "import csv\n",
    "import time"
   ]
  },
  {
   "cell_type": "markdown",
   "metadata": {},
   "source": [
    "### Read MNIST data."
   ]
  },
  {
   "cell_type": "code",
   "execution_count": 15,
   "metadata": {
    "collapsed": true
   },
   "outputs": [],
   "source": [
    "# X_test = np.genfromtxt('data/X_test.csv', delimiter = ',')\n",
    "# y_test = np.genfromtxt('data/y_test.csv', delimiter = ',')\n",
    "# X_train = np.genfromtxt('data/X_train.csv', delimiter = ',')\n",
    "# y_train = np.genfromtxt('data/y_train.csv', delimiter = ',')\n",
    "# data = np.genfromtxt('data/mnist_train_100.csv', delimiter = ',')\n",
    "# data1 = np.genfromtxt('data/mnist_test_10.csv', delimiter = ',')\n",
    "data = np.genfromtxt('data/mnist_train.csv', delimiter = ',')\n",
    "data1 = np.genfromtxt('data/mnist_test.csv', delimiter = ',')\n",
    "X_train = data[:, 1:]/256.0\n",
    "y_train = data[:, 0]\n",
    "X_test = data1[:, 1:]/256.0\n",
    "y_test = data1[:, 0]"
   ]
  },
  {
   "cell_type": "markdown",
   "metadata": {},
   "source": [
    "### Calculate gradient for the negative log likelihood loss function"
   ]
  },
  {
   "cell_type": "code",
   "execution_count": 16,
   "metadata": {
    "collapsed": true
   },
   "outputs": [],
   "source": [
    "def grad_calc(beta, X, y, C, mu = 0.5):\n",
    "    #t1 = time.time()\n",
    "    N = X.shape[0]\n",
    "    n = X.shape[1]\n",
    "    acc1 = np.zeros([C*n, 1])\n",
    "    acc2 = np.zeros([C*n, 1]) \n",
    "    for i in range(N):\n",
    "        X_i = X[i,:]\n",
    "        X_i = np.reshape(X_i, [n,1])\n",
    "        X_i_t  = np.transpose(X_i)\n",
    "        acc1[int((y[i])*n):int((y[i]+1)*n)] = acc1[int((y[i])*n):int((y[i]+1)*n)] + X_i\n",
    "        den = 0\n",
    "        num = np.zeros([C*n, 1])\n",
    "        for j in range(C):\n",
    "            exp_term = math.exp(-np.dot(X_i_t, beta[j*n:(j+1)*n]))\n",
    "            den = den + exp_term\n",
    "            #num[j*n:(j+1)*n] = num[j*n:(j+1)*n] - m.exp(-np.dot(X[i,:], beta[j*n:(j+1)*n]))*X_i\n",
    "            num[j*n:(j+1)*n] = num[j*n:(j+1)*n] - exp_term*X_i\n",
    "        acc2 = acc2 + num/den\n",
    "    grad = 1.0/N*(acc1+acc2) + 2*mu*beta\n",
    "   # t2 = time.time()\n",
    "    #print \"gradient step time\", t2 - t1\n",
    "    return grad\n",
    "    "
   ]
  },
  {
   "cell_type": "markdown",
   "metadata": {},
   "source": [
    "### Perform one step of Gradient Descent"
   ]
  },
  {
   "cell_type": "code",
   "execution_count": 17,
   "metadata": {
    "collapsed": true
   },
   "outputs": [],
   "source": [
    "def gradient_descent(beta, X, y, C, mu):\n",
    "    #t1 = time.time()\n",
    "    grad = grad_calc(beta, X, y, C, mu)\n",
    "    eeta = 1e-1\n",
    "    beta = beta - eeta*grad\n",
    "    #t2 = time.time()\n",
    "    #print \"gradient descent function time\", t2-t1\n",
    "    return beta"
   ]
  },
  {
   "cell_type": "markdown",
   "metadata": {},
   "source": [
    "### Perform one descent step of ADAM"
   ]
  },
  {
   "cell_type": "code",
   "execution_count": 18,
   "metadata": {
    "collapsed": true
   },
   "outputs": [],
   "source": [
    "def adam(theta, m, v, beta1, beta2, alpha, t, X=0, y=0, regularize = 0, num_class=0):\n",
    "    grad = grad_calc(theta, X, y, num_class, regularize)\n",
    "    m = beta1*m + (1-beta1)*grad\n",
    "    v = beta2*v + (1-beta2)*np.multiply(grad, grad)\n",
    "    m_hat = m/(1 - beta1**t)\n",
    "    v_hat = v/(1 - beta2**t)\n",
    "    eps = 1e-8\n",
    "    theta = theta - alpha*np.multiply(m, 1/(v**0.5 + eps))\n",
    "    return theta, m, v"
   ]
  },
  {
   "cell_type": "markdown",
   "metadata": {},
   "source": [
    "### Perform one descent step of NADAM"
   ]
  },
  {
   "cell_type": "code",
   "execution_count": 19,
   "metadata": {
    "collapsed": true
   },
   "outputs": [],
   "source": [
    "def nadam(theta, m, prod_mu, n, mu, nu, eta, t, X=0, y=0, regularize=0,num_class=0):\n",
    "    grad = grad_calc(theta, X, y, num_class, regularize)\n",
    "    mu_t = mu*(1 - 0.5*.96**(t/250))\n",
    "    mu_t_1 = mu*(1 - 0.5*.96**((t+1)/250))\n",
    "#     print mu_t, mu_t_1, t\n",
    "    prod_mu = prod_mu*mu_t\n",
    "    prod_mu_1 = prod_mu*mu_t_1\n",
    "    g_hat = grad/(1-prod_mu)\n",
    "    m = mu*m+(1-mu)*grad\n",
    "    \n",
    "    m_hat = m/(1-prod_mu_1)\n",
    "    n = nu*n + (1-nu)*np.multiply(grad, grad)\n",
    "    n_hat = n/(1-nu**t)\n",
    "    m_bar = (1 - mu_t)*g_hat + mu_t_1*m_hat\n",
    "    \n",
    "    eps = 1e-8\n",
    "    theta = theta - eta*np.multiply(m_bar, 1/(n_hat**0.5 + eps))\n",
    "    return theta, prod_mu, m, n"
   ]
  },
  {
   "cell_type": "markdown",
   "metadata": {},
   "source": [
    "### Optimization "
   ]
  },
  {
   "cell_type": "code",
   "execution_count": 22,
   "metadata": {
    "collapsed": true
   },
   "outputs": [],
   "source": [
    "def descent(update, X, y, X_test, y_test, C, mu, t):\n",
    "    N = X.shape[0]\n",
    "    n = X.shape[1]\n",
    "    N1 = X_test.shape[0]\n",
    "    cost_test = []\n",
    "    cost_train = []\n",
    "    beta = np.zeros([C*n, 1])\n",
    "    \"\"\"\n",
    "    Perform Gradient descent\n",
    "    \"\"\"\n",
    "    if update == gradient_descent:\n",
    "        for i in range(t):          \n",
    "            beta = update(beta, X, y, C, mu)\n",
    "            acc1 = 0\n",
    "            acc2 = 0\n",
    "            \"\"\"\n",
    "            Calculate Test Error\n",
    "            \"\"\"\n",
    "            for j in range(N1):\n",
    "                #print \"j\", j\n",
    "                X_j_t = np.reshape(X_test[j,:], [1, n])\n",
    "                acc1 = acc1+np.dot(X_j_t, beta[int(y_test[j]*n):int((y_test[j]+1)*n)])\n",
    "                C_acc = 0\n",
    "                for k in range(C):\n",
    "#                     print np.dot(X_j_t, beta[k*n:(k+1)*n])\n",
    "                    C_acc = C_acc + math.exp(-np.dot(X_j_t, beta[k*n:(k+1)*n]))\n",
    "                acc2 = acc2 + math.log(C_acc)\n",
    "        \n",
    "            cost_t = 1.0/N1*(acc1+acc2) #+ mu*la.norm(beta)**2\n",
    "            cost_test.append(cost_t)\n",
    "            acc1 = 0\n",
    "            acc2 = 0\n",
    "            \n",
    "            \"\"\"\n",
    "            Calculate Training Error\n",
    "            \"\"\"\n",
    "            for j in range(N):\n",
    "                X_j_t = np.reshape(X[j,:], [1, n])\n",
    "                acc1 = acc1+np.dot(X_j_t, beta[int(y[j]*n):int((y[j]+1)*n)])\n",
    "                C_acc = 0\n",
    "                for k in range(C):\n",
    "                    C_acc = C_acc + math.exp(-np.dot(X_j_t, beta[k*n:(k+1)*n]))\n",
    "                acc2 = acc2 + math.log(C_acc)     \n",
    "            cost_t = 1.0/N*(acc1+acc2) #+ mu*la.norm(beta)**2\n",
    "            cost_train.append(cost_t)\n",
    "   \n",
    "    \"\"\"\n",
    "    Perform ADAM\n",
    "    \"\"\"\n",
    "    if update == adam:\n",
    "        m = 0\n",
    "        v = 0\n",
    "        beta1 = 0.9\n",
    "        beta2 = 0.999\n",
    "        alpha = 0.001\n",
    "        for i in range(t):\n",
    "#             print \"i\",i\n",
    "            beta, m, v = adam(beta, m, v, beta1, beta2, alpha, i+1, X, y, mu, C)\n",
    "            acc1 = 0\n",
    "            acc2 = 0\n",
    "            for j in range(N1):\n",
    "                #print \"j\", j\n",
    "                X_j_t = np.reshape(X_test[j,:], [1, n])\n",
    "                acc1 = acc1+np.dot(X_j_t, beta[int(y_test[j]*n):int((y_test[j]+1)*n)])\n",
    "                C_acc = 0\n",
    "                for k in range(C):\n",
    "#                     print np.dot(X_j_t, beta[k*n:(k+1)*n])\n",
    "                    C_acc = C_acc + math.exp(-np.dot(X_j_t, beta[k*n:(k+1)*n]))\n",
    "                acc2 = acc2 + math.log(C_acc)\n",
    "\n",
    "            cost_t = 1.0/N1*(acc1+acc2) #+ mu*la.norm(beta)**2\n",
    "            cost_test.append(cost_t)\n",
    "            acc1 = 0\n",
    "            acc2 = 0\n",
    "            for j in range(N):\n",
    "                X_j_t = np.reshape(X[j,:], [1, n])\n",
    "                acc1 = acc1+np.dot(X_j_t, beta[int(y[j]*n):int((y[j]+1)*n)])\n",
    "                C_acc = 0\n",
    "                for k in range(C):\n",
    "                    C_acc = C_acc + math.exp(-np.dot(X_j_t, beta[k*n:(k+1)*n]))\n",
    "                acc2 = acc2 + math.log(C_acc)     \n",
    "            cost_t = 1.0/N*(acc1+acc2) #+ mu*la.norm(beta)**2\n",
    "            cost_train.append(cost_t)\n",
    "    \"\"\"\n",
    "    Perform NADAM\n",
    "    \"\"\"\n",
    "    if update == nadam:\n",
    "        m = 0\n",
    "        n1 = 0\n",
    "        beta1 = 0.99\n",
    "        nu = 0.999\n",
    "        prod_mu = 1\n",
    "        eta = 0.005\n",
    "        for i in range(t):\n",
    "#             print \"i\",i\n",
    "            beta, prod_mu, m, n1 = nadam(beta, m, prod_mu, n1, beta1, nu, eta, i+1, X, y, mu,C)\n",
    "            acc1 = 0\n",
    "            acc2 = 0\n",
    "            for j in range(N1):\n",
    "                #print \"j\", j\n",
    "                X_j_t = np.reshape(X_test[j,:], [1, n])\n",
    "                acc1 = acc1+np.dot(X_j_t, beta[int(y_test[j]*n):int((y_test[j]+1)*n)])\n",
    "                C_acc = 0\n",
    "                for k in range(C):\n",
    "#                     print np.dot(X_j_t, beta[k*n:(k+1)*n])\n",
    "                    C_acc = C_acc + math.exp(-np.dot(X_j_t, beta[k*n:(k+1)*n]))\n",
    "                acc2 = acc2 + math.log(C_acc)\n",
    "\n",
    "            cost_t = 1.0/N1*(acc1+acc2) #+ mu*la.norm(beta)**2\n",
    "            cost_test.append(cost_t)\n",
    "            acc1 = 0\n",
    "            acc2 = 0\n",
    "            for j in range(N):\n",
    "                X_j_t = np.reshape(X[j,:], [1, n])\n",
    "                acc1 = acc1+np.dot(X_j_t, beta[int(y[j]*n):int((y[j]+1)*n)])\n",
    "                C_acc = 0\n",
    "                for k in range(C):\n",
    "                    C_acc = C_acc + math.exp(-np.dot(X_j_t, beta[k*n:(k+1)*n]))\n",
    "                acc2 = acc2 + math.log(C_acc)     \n",
    "            cost_t = 1.0/N*(acc1+acc2) #+ mu*la.norm(beta)**2\n",
    "            cost_train.append(cost_t)\n",
    "    return beta, cost_test, cost_train\n",
    "            \n",
    "        "
   ]
  },
  {
   "cell_type": "code",
   "execution_count": 25,
   "metadata": {},
   "outputs": [
    {
     "name": "stdout",
     "output_type": "stream",
     "text": [
      "3747.61400008\n"
     ]
    },
    {
     "data": {
      "image/png": "[encoded data removed]",
      "text/plain": [
       "<matplotlib.figure.Figure at 0x4c79198>"
      ]
     },
     "metadata": {},
     "output_type": "display_data"
    }
   ],
   "source": [
    "C = 10\n",
    "mu = 1e-3\n",
    "t = 100\n",
    "t1 = time.time()\n",
    "\n",
    "beta_gd, loss_gd_test, loss_gd_train = descent(gradient_descent, X_train, y_train, X_test, y_test, C, mu, t)\n",
    "beta_adam, loss_adam_test, loss_adam_train = descent(adam, X_train, y_train, X_test, y_test, C, mu, t)\n",
    "beta_nadam, loss_nadam_test, loss_nadam_train = descent(nadam, X_train, y_train, X_test, y_test, C, mu, t)\n",
    "\n",
    "loss_gd_test = np.reshape(loss_gd_test, [t,1])\n",
    "loss_adam_test = np.reshape(loss_adam_test, [t,1])\n",
    "loss_nadam_test = np.reshape(loss_nadam_test, [t,1])\n",
    "\n",
    "loss_gd_train = np.reshape(loss_gd_train, [t,1])\n",
    "loss_adam_train = np.reshape(loss_adam_train, [t,1])\n",
    "loss_nadam_train = np.reshape(loss_nadam_train, [t,1])\n",
    "\n",
    "print time.time() - t1\n",
    "plt.plot(loss_gd_test, label='Gradient Descent Test Loss')\n",
    "plt.plot(loss_gd_train, label='Gradient Descent Train Loss')\n",
    "\n",
    "plt.plot(loss_adam_train, label='Adam Train Loss')\n",
    "plt.plot(loss_adam_test, label='Adam Test Loss')\n",
    "\n",
    "plt.plot(loss_nadam_train, label='Nadam Train Loss')\n",
    "plt.plot(loss_nadam_test, label='Nadam Test Loss')\n",
    "\n",
    "plt.xlabel('Epochs')\n",
    "plt.ylabel('Loss')\n",
    "plt.legend()\n",
    "plt.show()"
   ]
  },
  {
   "cell_type": "code",
   "execution_count": null,
   "metadata": {
    "collapsed": true
   },
   "outputs": [],
   "source": []
  }
 ],
 "metadata": {
  "kernelspec": {
   "display_name": "Python 2",
   "language": "python",
   "name": "python2"
  },
  "language_info": {
   "codemirror_mode": {
    "name": "ipython",
    "version": 2
   },
   "file_extension": ".py",
   "mimetype": "text/x-python",
   "name": "python",
   "nbconvert_exporter": "python",
   "pygments_lexer": "ipython2",
   "version": "2.7.13"
  }
 },
 "nbformat": 4,
 "nbformat_minor": 2
}
